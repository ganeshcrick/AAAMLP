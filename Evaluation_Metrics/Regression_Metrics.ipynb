{
 "metadata": {
  "language_info": {
   "codemirror_mode": {
    "name": "ipython",
    "version": 3
   },
   "file_extension": ".py",
   "mimetype": "text/x-python",
   "name": "python",
   "nbconvert_exporter": "python",
   "pygments_lexer": "ipython3",
   "version": "3.8.5"
  },
  "orig_nbformat": 2,
  "kernelspec": {
   "name": "python385jvsc74a57bd080f3d284bb9d561234e2b5710bdd0513fa2392303c74e1383e6eafd126f0306c",
   "display_name": "Python 3.8.5 64-bit ('base': conda)"
  }
 },
 "nbformat": 4,
 "nbformat_minor": 2,
 "cells": [
  {
   "source": [
    "## Mean Absolute Error"
   ],
   "cell_type": "markdown",
   "metadata": {}
  },
  {
   "cell_type": "code",
   "execution_count": 9,
   "metadata": {},
   "outputs": [],
   "source": [
    "import numpy as np\n",
    "\n",
    "def mean_absolute_error(y_true,y_pred):\n",
    "    error = 0\n",
    "    for yt,yp in zip(y_true,y_pred):\n",
    "        error += np.abs(yt-yp)\n",
    "    return error/len(y_true)\n",
    "\n",
    "## Efficient way of using numpy\n",
    "def mae_np(y_true, y_pred):\n",
    "    return np.mean(np.abs(y_true -y_pred))"
   ]
  },
  {
   "source": [
    "## Mean Squarred Error"
   ],
   "cell_type": "markdown",
   "metadata": {}
  },
  {
   "cell_type": "code",
   "execution_count": 2,
   "metadata": {},
   "outputs": [],
   "source": [
    "import numpy as np\n",
    "\n",
    "def mean_squared_error(y_true,y_pred):\n",
    "    error = 0\n",
    "    for yt,yp in zip(y_true,y_pred):\n",
    "        error += (yt-yp)**2\n",
    "    return error/len(y_true)"
   ]
  },
  {
   "source": [
    "## Mean Squared Log Error\n",
    "Another type of error in same class is squared logarithmic error. Some people call it SLE,and when we take mean of this error across all samples, it is known as MSLE (mean squared logarithmic error)\n",
    "\n",
    "\n"
   ],
   "cell_type": "markdown",
   "metadata": {}
  },
  {
   "cell_type": "code",
   "execution_count": 3,
   "metadata": {},
   "outputs": [],
   "source": [
    "import numpy as np\n",
    "\n",
    "def mean_squared_log_error(y_true,y_pred):\n",
    "    error = 0\n",
    "    for yt,yp in zip(y_true,y_pred):\n",
    "        error += (np.log(1+yt)-np.log(1+yp))**2\n",
    "    return error/len(y_true)"
   ]
  },
  {
   "source": [
    "## Percentage Error"
   ],
   "cell_type": "markdown",
   "metadata": {}
  },
  {
   "cell_type": "code",
   "execution_count": 5,
   "metadata": {},
   "outputs": [],
   "source": [
    "import numpy as np\n",
    "\n",
    "def mean_percentage_error(y_true,y_pred):\n",
    "    error = 0\n",
    "    for yt,yp in zip(y_true,y_pred):\n",
    "        error += (yt-yp)/yt\n",
    "    return error/len(y_true)"
   ]
  },
  {
   "source": [
    "## Mean Abs Percentage Error"
   ],
   "cell_type": "markdown",
   "metadata": {}
  },
  {
   "cell_type": "code",
   "execution_count": 6,
   "metadata": {},
   "outputs": [],
   "source": [
    "import numpy as np\n",
    "\n",
    "def mean_abs_percentage_error(y_true,y_pred):\n",
    "    error = 0\n",
    "    for yt,yp in zip(y_true,y_pred):\n",
    "        error += np.abs(yt-yp)/yt\n",
    "    return error/len(y_true)"
   ]
  },
  {
   "source": [
    "## R^2\n",
    " r2 = 1- RSS/TSS, where\n",
    "    RSS = sum((y_true_i-y_pred_i)**2)\n",
    "    TSS = sum((y_true_i-y_mean)**2)"
   ],
   "cell_type": "markdown",
   "metadata": {}
  },
  {
   "cell_type": "code",
   "execution_count": 8,
   "metadata": {},
   "outputs": [],
   "source": [
    "import numpy as np\n",
    "\n",
    "def r2(y_true,y_pred):\n",
    "\n",
    "    mean_true_value = np.mean(y_true)\n",
    "    for yt,yp in zip(y_true,y_pred):\n",
    "        RSS += (yt-yp)**2\n",
    "        TSS += (yt-mean_true_value)**2\n",
    "    rsquare = 1 - RSS/TSS\n",
    "    return rsquare\n"
   ]
  }
 ]
}
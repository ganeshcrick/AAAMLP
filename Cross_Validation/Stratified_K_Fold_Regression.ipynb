{
 "metadata": {
  "language_info": {
   "codemirror_mode": {
    "name": "ipython",
    "version": 3
   },
   "file_extension": ".py",
   "mimetype": "text/x-python",
   "name": "python",
   "nbconvert_exporter": "python",
   "pygments_lexer": "ipython3",
   "version": "3.8.5"
  },
  "orig_nbformat": 2,
  "kernelspec": {
   "name": "python385jvsc74a57bd080f3d284bb9d561234e2b5710bdd0513fa2392303c74e1383e6eafd126f0306c",
   "display_name": "Python 3.8.5 64-bit ('base': conda)"
  }
 },
 "nbformat": 4,
 "nbformat_minor": 2,
 "cells": [
  {
   "cell_type": "code",
   "execution_count": 2,
   "metadata": {},
   "outputs": [],
   "source": [
    "import numpy as np\n",
    "import pandas as pd\n",
    "from sklearn import datasets \n",
    "from sklearn import model_selection"
   ]
  },
  {
   "cell_type": "code",
   "execution_count": 23,
   "metadata": {},
   "outputs": [],
   "source": [
    "def create_folds(data):\n",
    "    data['kfold'] = -1\n",
    "    data = data.sample(frac=1).reset_index(drop=True)\n",
    "\n",
    "    ## Calculate no of bins using Sturge's rule\n",
    "    num_bins = int(np.floor(1 + np.log2(len(data))))\n",
    "\n",
    "    # bin Targets\n",
    "    data.loc[:,\"bins\"] = pd.cut(data['target'],bins=num_bins,labels=False)\n",
    "\n",
    "    ## Initiate Stratified k_fold\n",
    "    kf = model_selection.StratifiedKFold(n_splits=5)\n",
    "\n",
    "    for fold,(trn_,val_) in enumerate(kf.split(X=data,y=data.bins.values)):\n",
    "        data.loc[val_,'kfold'] = fold\n",
    "\n",
    "    # drop bins col\n",
    "    data.drop(columns=['bins'],inplace=True)\n",
    "\n",
    "    return data\n",
    "\n"
   ]
  },
  {
   "cell_type": "code",
   "execution_count": 24,
   "metadata": {},
   "outputs": [],
   "source": [
    "if __name__ == \"__main__\":\n",
    "    \n",
    "    # Create a sample dataset\n",
    "\n",
    "    X,y = datasets.make_regression(n_samples=15000,n_features=100,n_targets=1)\n",
    "\n",
    "    ## Array to DatFRame\n",
    "\n",
    "    df = pd.DataFrame(X,columns=[f\"f_{i}\" for i in range(X.shape[1])])\n",
    "    df.loc[:,\"target\"] = y\n",
    "\n",
    "    #create folds\n",
    "\n",
    "    df = create_folds(df)\n"
   ]
  },
  {
   "cell_type": "code",
   "execution_count": 25,
   "metadata": {},
   "outputs": [
    {
     "output_type": "execute_result",
     "data": {
      "text/plain": [
       "kfold\n",
       "0    0.754785\n",
       "1    0.474789\n",
       "2   -0.024827\n",
       "3    0.518153\n",
       "4   -0.533985\n",
       "Name: target, dtype: float64"
      ]
     },
     "metadata": {},
     "execution_count": 25
    }
   ],
   "source": [
    "df.groupby(['kfold'])['target'].mean() # Averages across fold are in similar range. If we change above to normal K Fold we can see drastic diff in avg"
   ]
  }
 ]
}
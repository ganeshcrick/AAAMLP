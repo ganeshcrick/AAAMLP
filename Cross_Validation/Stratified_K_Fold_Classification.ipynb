{
 "metadata": {
  "language_info": {
   "codemirror_mode": {
    "name": "ipython",
    "version": 3
   },
   "file_extension": ".py",
   "mimetype": "text/x-python",
   "name": "python",
   "nbconvert_exporter": "python",
   "pygments_lexer": "ipython3",
   "version": "3.8.5"
  },
  "orig_nbformat": 2,
  "kernelspec": {
   "name": "python385jvsc74a57bd080f3d284bb9d561234e2b5710bdd0513fa2392303c74e1383e6eafd126f0306c",
   "display_name": "Python 3.8.5 64-bit ('base': conda)"
  }
 },
 "nbformat": 4,
 "nbformat_minor": 2,
 "cells": [
  {
   "cell_type": "code",
   "execution_count": 1,
   "metadata": {},
   "outputs": [],
   "source": [
    "import pandas as pd\n",
    "from sklearn import model_selection\n",
    "\n",
    "data_path =  r'C:\\GN\\Projects\\Datasets\\AAAMLP_datasets/'\n",
    "output_path = r'C:\\GN\\Projects\\Datasets\\AAAMLP_outputs/'"
   ]
  },
  {
   "cell_type": "code",
   "execution_count": 3,
   "metadata": {},
   "outputs": [],
   "source": [
    "if __name__ == \"__main__\":\n",
    "    df=pd.read_csv(data_path+\"imdb.csv\")\n",
    "\n",
    "    df['kfold'] = -1\n",
    "\n",
    "    # Shuffle\n",
    "    df = df.sample(frac=1).reset_index(drop=True)\n",
    "\n",
    "    ## Initiate Stratified k_fold\n",
    "    kf = model_selection.StratifiedKFold(n_splits=5)\n",
    "\n",
    "    # Fetch Targets\n",
    "    y = df.sentiment.values\n",
    "\n",
    "    for fold,(trn_,val_) in enumerate(kf.split(X=df,y=y)):\n",
    "        df.loc[val_,'kfold'] = fold\n",
    "\n",
    "    # fill the new kfold col\n",
    "    # fold keeps track of sets created by kf.split(). fold is from enumerate\n",
    "    # trn_,val_ keeps track of indexes in the respective kf.split() set\n",
    "    # Thus using val_ index in each set we can specify folds for entire df\n",
    "    # Refer below examples for more clarity\n",
    "\n",
    "    df.to_csv(output_path+\"imdb_stratified_folds.csv\",index = False)"
   ]
  },
  {
   "cell_type": "code",
   "execution_count": 8,
   "metadata": {},
   "outputs": [
    {
     "output_type": "execute_result",
     "data": {
      "text/plain": [
       "kfold  sentiment\n",
       "0      negative     5000\n",
       "       positive     5000\n",
       "1      negative     5000\n",
       "       positive     5000\n",
       "2      negative     5000\n",
       "       positive     5000\n",
       "3      negative     5000\n",
       "       positive     5000\n",
       "4      negative     5000\n",
       "       positive     5000\n",
       "Name: sentiment, dtype: int64"
      ]
     },
     "metadata": {},
     "execution_count": 8
    }
   ],
   "source": [
    "## Check Stratified k fold\n",
    "df.groupby(['kfold'])['sentiment'].value_counts()"
   ]
  }
 ]
}
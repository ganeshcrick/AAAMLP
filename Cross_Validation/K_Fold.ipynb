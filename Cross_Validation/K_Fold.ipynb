{
 "metadata": {
  "language_info": {
   "codemirror_mode": {
    "name": "ipython",
    "version": 3
   },
   "file_extension": ".py",
   "mimetype": "text/x-python",
   "name": "python",
   "nbconvert_exporter": "python",
   "pygments_lexer": "ipython3",
   "version": "3.8.5"
  },
  "orig_nbformat": 2,
  "kernelspec": {
   "name": "python385jvsc74a57bd080f3d284bb9d561234e2b5710bdd0513fa2392303c74e1383e6eafd126f0306c",
   "display_name": "Python 3.8.5 64-bit ('base': conda)"
  }
 },
 "nbformat": 4,
 "nbformat_minor": 2,
 "cells": [
  {
   "cell_type": "code",
   "execution_count": 5,
   "metadata": {},
   "outputs": [],
   "source": [
    "import pandas as pd\n",
    "from sklearn import model_selection\n",
    "\n",
    "data_path =  r'C:\\GN\\Projects\\Datasets\\AAAMLP_datasets/'\n",
    "output_path = r'C:\\GN\\Projects\\Datasets\\AAAMLP_outputs/'"
   ]
  },
  {
   "cell_type": "code",
   "execution_count": 6,
   "metadata": {},
   "outputs": [],
   "source": [
    "if __name__ == \"__main__\":\n",
    "    df=pd.read_csv(data_path+\"adult.csv\")\n",
    "\n",
    "    df['kfold'] = -1\n",
    "\n",
    "    # Shuffle\n",
    "    df = df.sample(frac=1).reset_index(drop=True)\n",
    "\n",
    "    ## Initiate k_fold\n",
    "    kf = model_selection.KFold(n_splits=5)\n",
    "\n",
    "    for fold,(trn_,val_) in enumerate(kf.split(X=df)):\n",
    "        df.loc[val_,'kfold'] = fold\n",
    "\n",
    "    # fill the new kfold col\n",
    "    # fold keeps track of sets created by kf.split(). fold is from enumerate\n",
    "    # trn_,val_ keeps track of indexes in the respective kf.split() set\n",
    "    # Thus using val_ index in each set we can specify folds for entire df\n",
    "    # Refer below examples for more clarity\n",
    "\n",
    "    df.to_csv(output_path+\"adult_folds.csv\",index = False)"
   ]
  },
  {
   "cell_type": "code",
   "execution_count": 17,
   "metadata": {},
   "outputs": [
    {
     "output_type": "stream",
     "name": "stdout",
     "text": [
      "Fold: 0 TRAIN: [1 2 3] TEST: [0]\nFold: 1 TRAIN: [0 2 3] TEST: [1]\nFold: 2 TRAIN: [0 1 3] TEST: [2]\nFold: 3 TRAIN: [0 1 2] TEST: [3]\n"
     ]
    }
   ],
   "source": [
    ">>> import numpy as np\n",
    ">>> from sklearn.model_selection import KFold\n",
    ">>> X = np.array([[1, 2], [3, 4], [1, 2], [3, 4]])\n",
    ">>> y = np.array([1, 2, 3, 4])\n",
    "kf = KFold(n_splits=4)\n",
    "kf.get_n_splits(X)\n",
    "\n",
    ">>> for fold,(train_index, test_index) in enumerate(kf.split(X)):\n",
    "...     print(\"Fold:\",fold,\"TRAIN:\", train_index, \"TEST:\", test_index)\n",
    "...     X_train, X_test = X[train_index], X[test_index]\n",
    "...     y_train, y_test = y[train_index], y[test_index]"
   ]
  },
  {
   "cell_type": "code",
   "execution_count": 28,
   "metadata": {},
   "outputs": [
    {
     "output_type": "stream",
     "name": "stdout",
     "text": [
      "(array([1, 2, 3]), array([0]))\n(array([0, 2, 3]), array([1]))\n(array([0, 1, 3]), array([2]))\n(array([0, 1, 2]), array([3]))\n"
     ]
    }
   ],
   "source": [
    "for i in kf.split(X):\n",
    "    print(i)"
   ]
  },
  {
   "cell_type": "code",
   "execution_count": 26,
   "metadata": {},
   "outputs": [
    {
     "output_type": "stream",
     "name": "stdout",
     "text": [
      "(0, 100)\n(1, 102)\n(2, 104)\n(3, 106)\n(4, 108)\n(5, 110)\n(6, 112)\n(7, 114)\n(8, 116)\n(9, 118)\n"
     ]
    }
   ],
   "source": [
    "for i in enumerate(range(100,120,2)):\n",
    "    print(i)"
   ]
  }
 ]
}